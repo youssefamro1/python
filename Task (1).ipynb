{
 "cells": [
  {
   "attachments": {},
   "cell_type": "markdown",
   "id": "54c736b5",
   "metadata": {},
   "source": [
    "###  Using list comprehension ,list related functions or otherwise, create following list:\n",
    "\n",
    "   [[1, 2, 3, 4, 5, 6, 7], [1, 4, 9, 16, 25, 36, 49], [1, 8, 27, 64, 125, 216,343]]"
   ]
  },
  {
   "cell_type": "code",
   "execution_count": null,
   "id": "7646f93b",
   "metadata": {},
   "outputs": [],
   "source": []
  },
  {
   "cell_type": "code",
   "execution_count": null,
   "id": "605856e5",
   "metadata": {},
   "outputs": [],
   "source": []
  },
  {
   "cell_type": "markdown",
   "id": "76f578f9",
   "metadata": {},
   "source": [
    "### Use List comprehension to create a list of all numbers between 1 and 50 that are divisible by 3."
   ]
  },
  {
   "cell_type": "code",
   "execution_count": null,
   "id": "0f0e09f7",
   "metadata": {},
   "outputs": [],
   "source": []
  },
  {
   "cell_type": "code",
   "execution_count": null,
   "id": "a10269d8",
   "metadata": {},
   "outputs": [],
   "source": []
  },
  {
   "cell_type": "markdown",
   "id": "50a1c233",
   "metadata": {},
   "source": [
    "###  Use List Comprehension to create a list of the first letters of ever-y word in the string below:\n",
    "\n",
    "st = 'Create a list of the first letters of every word in this string'"
   ]
  },
  {
   "cell_type": "code",
   "execution_count": null,
   "id": "2ac97061",
   "metadata": {},
   "outputs": [],
   "source": []
  },
  {
   "cell_type": "code",
   "execution_count": null,
   "id": "30a31f4e",
   "metadata": {},
   "outputs": [],
   "source": []
  },
  {
   "cell_type": "markdown",
   "id": "99347a10",
   "metadata": {},
   "source": [
    "### Write a program to extract phone numbers for each location \n",
    "\n",
    "- Consider this dictionary of addresses :\n",
    "\n",
    "{“home” : [“Hyderabad”,“Lingampally”,“Ph:1234567890”],\n",
    "\n",
    "“office”:[“Maharashtra”,“Mumbai”,“Ghatkopar”,“Ph : 5432167809”,“Pin :400043”],\n",
    "\n",
    "“OOI” : [“Singapore”,“Ph : 09876345”]}\n"
   ]
  },
  {
   "cell_type": "code",
   "execution_count": null,
   "id": "0ec98294",
   "metadata": {},
   "outputs": [],
   "source": []
  },
  {
   "cell_type": "code",
   "execution_count": null,
   "id": "08474bf5",
   "metadata": {},
   "outputs": [],
   "source": []
  },
  {
   "cell_type": "markdown",
   "id": "3a408177",
   "metadata": {},
   "source": [
    "### Reverse the string 'Mega' using slicing"
   ]
  },
  {
   "cell_type": "code",
   "execution_count": null,
   "id": "4c01d91d",
   "metadata": {},
   "outputs": [],
   "source": []
  },
  {
   "cell_type": "code",
   "execution_count": null,
   "id": "a80de031",
   "metadata": {},
   "outputs": [],
   "source": []
  },
  {
   "cell_type": "markdown",
   "id": "aac74a7f",
   "metadata": {},
   "source": [
    "###  in the string below if the **length of a word** is even print \"even!\"\n",
    "string = 'Print every word in this sentence that has an even number of letters'"
   ]
  },
  {
   "cell_type": "code",
   "execution_count": null,
   "id": "25e636ff",
   "metadata": {},
   "outputs": [],
   "source": []
  },
  {
   "cell_type": "markdown",
   "id": "da85751e",
   "metadata": {},
   "source": [
    "## Create a tuple of 5 elements and then multiply each element of the tuple by 2 & save the results in a list"
   ]
  },
  {
   "cell_type": "code",
   "execution_count": null,
   "id": "75eaedcf",
   "metadata": {},
   "outputs": [],
   "source": []
  },
  {
   "cell_type": "code",
   "execution_count": null,
   "id": "31775761",
   "metadata": {},
   "outputs": [],
   "source": []
  },
  {
   "cell_type": "markdown",
   "id": "3420d704",
   "metadata": {},
   "source": [
    "### Solve these problems :-\n",
    "\n",
    "*  https://www.hackerrank.com/challenges/python-string-split-and-join/problem\n",
    "*  https://www.hackerrank.com/challenges/write-a-function/problem\n",
    "*  https://www.hackerrank.com/challenges/py-if-else/problem"
   ]
  },
  {
   "cell_type": "code",
   "execution_count": null,
   "id": "dd49cfa8",
   "metadata": {},
   "outputs": [],
   "source": []
  },
  {
   "cell_type": "code",
   "execution_count": null,
   "id": "b8f32149",
   "metadata": {},
   "outputs": [],
   "source": []
  },
  {
   "cell_type": "code",
   "execution_count": null,
   "id": "df58593a",
   "metadata": {},
   "outputs": [],
   "source": []
  },
  {
   "cell_type": "code",
   "execution_count": null,
   "id": "1603b23d",
   "metadata": {},
   "outputs": [],
   "source": []
  },
  {
   "cell_type": "code",
   "execution_count": null,
   "id": "a441e709",
   "metadata": {},
   "outputs": [],
   "source": []
  },
  {
   "cell_type": "markdown",
   "id": "4838439c",
   "metadata": {},
   "source": [
    "###   counts how many times the letter “r” appears in the phrase bellow and then print it out .\n",
    "\n",
    "phrase = \"Is it better to have an outlier in your own data ? of course not, to be content with reality; if it's not so bright as dreams,create your fav routine  \""
   ]
  },
  {
   "cell_type": "code",
   "execution_count": 13,
   "id": "d9c5b846",
   "metadata": {},
   "outputs": [],
   "source": []
  },
  {
   "cell_type": "code",
   "execution_count": null,
   "id": "a67b245e",
   "metadata": {},
   "outputs": [],
   "source": []
  },
  {
   "cell_type": "code",
   "execution_count": null,
   "id": "e30090cb",
   "metadata": {},
   "outputs": [],
   "source": []
  },
  {
   "cell_type": "code",
   "execution_count": null,
   "id": "ff1b8a27",
   "metadata": {},
   "outputs": [],
   "source": []
  }
 ],
 "metadata": {
  "kernelspec": {
   "display_name": "Python 3",
   "language": "python",
   "name": "python3"
  },
  "language_info": {
   "codemirror_mode": {
    "name": "ipython",
    "version": 3
   },
   "file_extension": ".py",
   "mimetype": "text/x-python",
   "name": "python",
   "nbconvert_exporter": "python",
   "pygments_lexer": "ipython3",
   "version": "3.8.8"
  }
 },
 "nbformat": 4,
 "nbformat_minor": 5
}
