{
 "cells": [
  {
   "cell_type": "markdown",
   "id": "54c736b5",
   "metadata": {},
   "source": [
    "###  Using list comprehension ,list related functions or otherwise, create following list:\n",
    "\n",
    "   [[1, 2, 3, 4, 5, 6, 7], [1, 4, 9, 16, 25, 36, 49], [1, 8, 27, 64, 125, 216,343]]"
   ]
  },
  {
   "cell_type": "code",
   "execution_count": 1,
   "id": "7646f93b",
   "metadata": {},
   "outputs": [],
   "source": [
    "l_nums=list(range(1,8,1))\n",
    "l2=list(map(lambda x:x**2,l_nums))\n",
    "l3=list(map(lambda x:x**3,l_nums))\n",
    "\n",
    "ll=[l_nums,l2,l3]"
   ]
  },
  {
   "cell_type": "code",
   "execution_count": 2,
   "id": "605856e5",
   "metadata": {},
   "outputs": [
    {
     "name": "stdout",
     "output_type": "stream",
     "text": [
      "[[1, 2, 3, 4, 5, 6, 7], [1, 4, 9, 16, 25, 36, 49], [1, 8, 27, 64, 125, 216, 343]]\n"
     ]
    }
   ],
   "source": [
    "print(ll)"
   ]
  },
  {
   "cell_type": "markdown",
   "id": "76f578f9",
   "metadata": {},
   "source": [
    "### Use List comprehension to create a list of all numbers between 1 and 50 that are divisible by 3."
   ]
  },
  {
   "cell_type": "code",
   "execution_count": 13,
   "id": "0f0e09f7",
   "metadata": {},
   "outputs": [],
   "source": [
    "l=[]\n",
    "for x in range(1,51,1):\n",
    "    if x%3==0:l.append(x)"
   ]
  },
  {
   "cell_type": "code",
   "execution_count": 4,
   "id": "a10269d8",
   "metadata": {},
   "outputs": [
    {
     "name": "stdout",
     "output_type": "stream",
     "text": [
      "[3, 6, 9, 12, 15, 18, 21, 24, 27, 30, 33, 36, 39, 42, 45, 48]\n"
     ]
    }
   ],
   "source": [
    "print(l)"
   ]
  },
  {
   "cell_type": "markdown",
   "id": "50a1c233",
   "metadata": {},
   "source": [
    "###  Use List Comprehension to create a list of the first letters of ever-y word in the string below:\n",
    "\n",
    "st = 'Create a list of the first letters of every word in this string'"
   ]
  },
  {
   "cell_type": "code",
   "execution_count": 5,
   "id": "2ac97061",
   "metadata": {},
   "outputs": [],
   "source": [
    "x=\"my name is youssef amr\"\n",
    "lst=x.split()\n",
    "ch_lst=[]\n",
    "for i in lst:\n",
    "    ch_lst.append(i[0])"
   ]
  },
  {
   "cell_type": "code",
   "execution_count": 6,
   "id": "30a31f4e",
   "metadata": {},
   "outputs": [
    {
     "name": "stdout",
     "output_type": "stream",
     "text": [
      "['m', 'n', 'i', 'y', 'a']\n"
     ]
    }
   ],
   "source": [
    "print(ch_lst) "
   ]
  },
  {
   "cell_type": "markdown",
   "id": "99347a10",
   "metadata": {},
   "source": [
    "### Write a program to extract phone numbers for each location \n",
    "\n",
    "- Consider this dictionary of addresses :\n",
    "\n",
    "{“home” : [“Hyderabad”,“Lingampally”,“Ph:1234567890”],\n",
    "\n",
    "“office”:[“Maharashtra”,“Mumbai”,“Ghatkopar”,“Ph : 5432167809”,“Pin :400043”],\n",
    "\n",
    "“OOI” : [“Singapore”,“Ph : 09876345”]}\n"
   ]
  },
  {
   "cell_type": "code",
   "execution_count": null,
   "id": "0ec98294",
   "metadata": {},
   "outputs": [],
   "source": []
  },
  {
   "cell_type": "code",
   "execution_count": null,
   "id": "08474bf5",
   "metadata": {},
   "outputs": [],
   "source": []
  },
  {
   "cell_type": "markdown",
   "id": "3a408177",
   "metadata": {},
   "source": [
    "### Reverse the string 'Mega' using slicing"
   ]
  },
  {
   "cell_type": "code",
   "execution_count": 7,
   "id": "4c01d91d",
   "metadata": {},
   "outputs": [],
   "source": [
    "x=\"mega\"[::-1]"
   ]
  },
  {
   "cell_type": "code",
   "execution_count": 8,
   "id": "a80de031",
   "metadata": {},
   "outputs": [
    {
     "name": "stdout",
     "output_type": "stream",
     "text": [
      "agem\n"
     ]
    }
   ],
   "source": [
    "print(x)"
   ]
  },
  {
   "cell_type": "markdown",
   "id": "aac74a7f",
   "metadata": {},
   "source": [
    "###  in the string below if the **length of a word** is even print \"even!\"\n",
    "string = 'Print every word in this sentence that has an even number of letters'"
   ]
  },
  {
   "cell_type": "code",
   "execution_count": 11,
   "id": "25e636ff",
   "metadata": {},
   "outputs": [
    {
     "name": "stdout",
     "output_type": "stream",
     "text": [
      "odd\n"
     ]
    }
   ],
   "source": [
    "x=\"num\"\n",
    "print(\"even\"if len(x)%2==0 else\"odd\")"
   ]
  },
  {
   "cell_type": "markdown",
   "id": "da85751e",
   "metadata": {},
   "source": [
    "## Create a tuple of 5 elements and then multiply each element of the tuple by 2 & save the results in a list"
   ]
  },
  {
   "cell_type": "code",
   "execution_count": 14,
   "id": "75eaedcf",
   "metadata": {},
   "outputs": [],
   "source": [
    "x=(1,2,3,4,5)\n",
    "y=list(2*x)"
   ]
  },
  {
   "cell_type": "code",
   "execution_count": 15,
   "id": "31775761",
   "metadata": {},
   "outputs": [
    {
     "name": "stdout",
     "output_type": "stream",
     "text": [
      "[1, 2, 3, 4, 5, 1, 2, 3, 4, 5]\n"
     ]
    }
   ],
   "source": [
    "print(y)"
   ]
  },
  {
   "cell_type": "markdown",
   "id": "3420d704",
   "metadata": {},
   "source": [
    "### Solve these problems :-\n",
    "\n",
    "*  https://www.hackerrank.com/challenges/python-string-split-and-join/problem\n",
    "*  https://www.hackerrank.com/challenges/write-a-function/problem\n",
    "*  https://www.hackerrank.com/challenges/py-if-else/problem"
   ]
  },
  {
   "cell_type": "code",
   "execution_count": 3,
   "id": "dd49cfa8",
   "metadata": {},
   "outputs": [],
   "source": [
    "a = \"this is a string\"\n",
    "a = a.split(\" \") \n",
    "a = \"-\".join(a)"
   ]
  },
  {
   "cell_type": "code",
   "execution_count": 4,
   "id": "b8f32149",
   "metadata": {},
   "outputs": [
    {
     "name": "stdout",
     "output_type": "stream",
     "text": [
      "this-is-a-string\n"
     ]
    }
   ],
   "source": [
    "print (a)"
   ]
  },
  {
   "cell_type": "code",
   "execution_count": null,
   "id": "df58593a",
   "metadata": {},
   "outputs": [],
   "source": []
  },
  {
   "cell_type": "code",
   "execution_count": 5,
   "id": "1603b23d",
   "metadata": {},
   "outputs": [
    {
     "name": "stdout",
     "output_type": "stream",
     "text": [
      "13\n",
      "wierd\n"
     ]
    }
   ],
   "source": [
    "x=int(input())\n",
    "print(\"wierd\" if x%2!=0 or x in range(6,21,2) else\"Not Weird\" )"
   ]
  },
  {
   "cell_type": "code",
   "execution_count": null,
   "id": "a441e709",
   "metadata": {},
   "outputs": [],
   "source": []
  },
  {
   "cell_type": "markdown",
   "id": "4838439c",
   "metadata": {},
   "source": [
    "###   counts how many times the letter “r” appears in the phrase bellow and then print it out .\n",
    "\n",
    "phrase = \"Is it better to have an outlier in your own data ? of course not, to be content with reality; if it's not so bright as dreams,create your fav routine  \""
   ]
  },
  {
   "cell_type": "code",
   "execution_count": 6,
   "id": "d9c5b846",
   "metadata": {},
   "outputs": [],
   "source": [
    "x=\"Is it better to have an outlier in your own data ? of course not, to be content with reality; if it's not so bright as dreams,create your fav routine\""
   ]
  },
  {
   "cell_type": "code",
   "execution_count": 8,
   "id": "a67b245e",
   "metadata": {},
   "outputs": [
    {
     "name": "stdout",
     "output_type": "stream",
     "text": [
      "10\n"
     ]
    }
   ],
   "source": [
    "print(x.count(\"r\"))"
   ]
  },
  {
   "cell_type": "code",
   "execution_count": null,
   "id": "e30090cb",
   "metadata": {},
   "outputs": [],
   "source": []
  },
  {
   "cell_type": "code",
   "execution_count": null,
   "id": "ff1b8a27",
   "metadata": {},
   "outputs": [],
   "source": []
  }
 ],
 "metadata": {
  "kernelspec": {
   "display_name": "Python 3",
   "language": "python",
   "name": "python3"
  },
  "language_info": {
   "codemirror_mode": {
    "name": "ipython",
    "version": 3
   },
   "file_extension": ".py",
   "mimetype": "text/x-python",
   "name": "python",
   "nbconvert_exporter": "python",
   "pygments_lexer": "ipython3",
   "version": "3.8.8"
  }
 },
 "nbformat": 4,
 "nbformat_minor": 5
}
